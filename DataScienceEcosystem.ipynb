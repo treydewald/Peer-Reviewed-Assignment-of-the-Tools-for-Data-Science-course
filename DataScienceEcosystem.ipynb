{
 "cells": [
  {
   "cell_type": "markdown",
   "id": "fff9326e-a6b7-4045-9001-2f3df70b78f1",
   "metadata": {},
   "source": [
    "# Data Science Tools and Ecosystem"
   ]
  },
  {
   "cell_type": "markdown",
   "id": "2b21684a-c416-4d74-8ef9-8ea381b260c0",
   "metadata": {},
   "source": [
    "In this notebook, Data Science Tools and Ecosystem are summarized."
   ]
  },
  {
   "cell_type": "markdown",
   "id": "7191b779-ad7f-45d9-a79d-8365d0e755fc",
   "metadata": {},
   "source": [
    "**Objectives:**\n",
    "\n",
    "- List popular languages for Data Science  \n",
    "- Identify commonly used libraries for Data Science  \n",
    "- Describe open source development tools used in Data Science  \n",
    "- Evaluate basic arithmetic expressions in Python  \n",
    "- Convert minutes to hours using Python code"
   ]
  },
  {
   "cell_type": "markdown",
   "id": "af199f9f-18fb-430d-a5f8-f1f5fa25ccc7",
   "metadata": {},
   "source": [
    "Some of the popular languages that Data Scientists use are:\n",
    "\n",
    "1. Python  \n",
    "2. R  \n",
    "3. SQL  \n",
    "4. Julia  \n",
    "5. Scala"
   ]
  },
  {
   "cell_type": "markdown",
   "id": "bc0cd0a7-4c86-4b52-9ab7-852ec308bd67",
   "metadata": {},
   "source": [
    "Some of the commonly used libraries for Data Scientists include:\n",
    "\n",
    "1. NumPy – for numerical computations  \n",
    "2. pandas – for data manipulation and analysis  \n",
    "3. Matplotlib – for data visualization  \n",
    "4. scikit-learn – for machine learning  \n",
    "5. TensorFlow – for deep learning and neural networks  \n",
    "6. seaborn – for statistical data visualization"
   ]
  },
  {
   "cell_type": "markdown",
   "id": "258814be-d46c-4d0f-8d0d-153d7520a5e0",
   "metadata": {},
   "source": [
    "| Data Science Tools         |\n",
    "|---------------------------|\n",
    "| Jupyter Notebook          |\n",
    "| RStudio                   |\n",
    "| VS Code                   |"
   ]
  },
  {
   "cell_type": "markdown",
   "id": "5e0fd7ca-e8cc-4a1a-be7b-3efea375e61c",
   "metadata": {},
   "source": [
    "### Below are a few examples of evaluating arithmetic expressions in Python"
   ]
  },
  {
   "cell_type": "code",
   "execution_count": 5,
   "id": "c20da950-63e2-4089-96ae-612acd2b57b0",
   "metadata": {},
   "outputs": [
    {
     "data": {
      "text/plain": [
       "17"
      ]
     },
     "execution_count": 5,
     "metadata": {},
     "output_type": "execute_result"
    }
   ],
   "source": [
    "# This is a simple arithmetic expression to multiply then add integers\n",
    "(3 * 4) + 5"
   ]
  },
  {
   "cell_type": "code",
   "execution_count": 6,
   "id": "49540766-46ca-4ec2-8b62-d6daa2734ff1",
   "metadata": {},
   "outputs": [
    {
     "data": {
      "text/plain": [
       "3.3333333333333335"
      ]
     },
     "execution_count": 6,
     "metadata": {},
     "output_type": "execute_result"
    }
   ],
   "source": [
    "# This will convert 200 minutes to hours by dividing by 60\n",
    "200 / 60"
   ]
  },
  {
   "cell_type": "markdown",
   "id": "7bcef784-31b5-4cbb-b221-efc298e23e31",
   "metadata": {},
   "source": [
    "## Author\n",
    "\n",
    "Trey DeWald"
   ]
  }
 ],
 "metadata": {
  "kernelspec": {
   "display_name": "Python 3 (ipykernel)",
   "language": "python",
   "name": "python3"
  },
  "language_info": {
   "codemirror_mode": {
    "name": "ipython",
    "version": 3
   },
   "file_extension": ".py",
   "mimetype": "text/x-python",
   "name": "python",
   "nbconvert_exporter": "python",
   "pygments_lexer": "ipython3",
   "version": "3.12.8"
  }
 },
 "nbformat": 4,
 "nbformat_minor": 5
}
